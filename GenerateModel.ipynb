{
 "cells": [
  {
   "cell_type": "markdown",
   "id": "0c7ade5c",
   "metadata": {},
   "source": [
    "<p style=\"text-align: center\"> Escuela Técnica Superior de Ingeniería Informática</p>\n",
    "<p style=\"text-align: center\">Universidad de Sevilla</p>\n",
    "<p style=\"text-align: center\">Procesamiento del Lenguaje Natural </p>\n",
    "<p style=\"text-align: center\"> Tarea 3 </p>\n",
    "<p> </p>\n",
    "\n",
    "**Nombre del alumno:**\n",
    "- Kenny Jesús Flores Huamán\n",
    "\n",
    "<!-- \n",
    "Para generar la tabla de contenidos que se va a haber a continuación, se ha hecho uso del siguiente código\n",
    "URL : https://stackoverflow.com/questions/21151450/how-can-i-add-a-table-of-contents-to-a-jupyter-jupyterlab-notebook#:~:text=Click%20the%20toc2%20symbol%20in,you%20open%20it%20in%20JupyterLab.\n",
    "\n",
    "import json\n",
    "import urllib\n",
    "def generate_toc(notebook_path, indent_char=\"&emsp;\"):\n",
    "    is_markdown = lambda it: \"markdown\" == it[\"cell_type\"]\n",
    "    is_title = lambda it: it.strip().startswith(\"#\") and it.strip().lstrip(\"#\").lstrip()\n",
    "    with open(notebook_path, 'r') as in_f:\n",
    "        nb_json = json.load(in_f)\n",
    "    for cell in filter(is_markdown, nb_json[\"cells\"]):\n",
    "        for line in filter(is_title, cell[\"source\"]):\n",
    "            line = line.strip()\n",
    "            indent = indent_char * (line.index(\" \") - 1)\n",
    "            title = line.lstrip(\"#\").lstrip()\n",
    "            url = urllib.parse.quote(title.replace(\" \", \"-\"))\n",
    "            out_line = f\"{indent}[{title}](#{url})<br>\\n\"\n",
    "            print(out_line, end=\"\")\n",
    "            \n",
    "generate_toc('C6_FloresHuaman.ipynb') -->\n"
   ]
  },
  {
   "cell_type": "markdown",
   "id": "f52a1bd9",
   "metadata": {},
   "source": [
    "# Introduccion \n",
    "\n",
    "En esta tarea vamos a hacer uso de la herramienta jupyter notebook para profundizar algunos aspectos del procesamiento del lenguaje natural, en este caso vamos a realizar una predicción de la siguiente palabra que escribamos.\n",
    "\n",
    "\n",
    "# Librerias importadas"
   ]
  },
  {
   "cell_type": "code",
   "execution_count": 1,
   "id": "6cc5e698",
   "metadata": {},
   "outputs": [],
   "source": [
    "# !pip install pandas\n",
    "# !pip install nltk\n",
    "import pandas as pd\n",
    "import numpy as np\n",
    "import string\n",
    "import re\n",
    "import pickle\n",
    "import nltk\n",
    "from nltk.corpus import stopwords\n",
    "# nltk.download(\"stopwords\")"
   ]
  },
  {
   "cell_type": "code",
   "execution_count": 2,
   "id": "9187daa4",
   "metadata": {},
   "outputs": [],
   "source": [
    "# Cargamos las stopwords en español\n",
    "stopwords = set(stopwords.words('spanish'))"
   ]
  },
  {
   "cell_type": "markdown",
   "id": "bd80cc29",
   "metadata": {},
   "source": [
    "## Dataset utilizado\n",
    "\n",
    "En esta ocasión, debido a los nulos datasets relacionados con los chats en español, se ha decidido elegir un dataset donde recopilan [+9000 letras de rap en español](https://www.kaggle.com/datasets/smunoz3801/9325-letras-de-rap-en-espaol).\n",
    "\n"
   ]
  },
  {
   "cell_type": "code",
   "execution_count": 3,
   "id": "cd5e5002",
   "metadata": {},
   "outputs": [],
   "source": [
    "dataset = pd.read_csv(\"dataset.csv\")"
   ]
  },
  {
   "cell_type": "markdown",
   "id": "3c4787f1",
   "metadata": {},
   "source": [
    "Debido a que de todo el dataset lo único que nos interesa es el corpus, vamos a convertirlo en un array numpy"
   ]
  },
  {
   "cell_type": "code",
   "execution_count": 56,
   "id": "fef8e714",
   "metadata": {},
   "outputs": [],
   "source": [
    "letras = dataset['letra'].values.astype('U')"
   ]
  },
  {
   "cell_type": "code",
   "execution_count": 57,
   "id": "0211bf50",
   "metadata": {},
   "outputs": [],
   "source": [
    "# Preprocesado"
   ]
  },
  {
   "cell_type": "markdown",
   "id": "a2979e84",
   "metadata": {},
   "source": [
    "Generamos una máscara para poder eliminar las letras que no tienen letra."
   ]
  },
  {
   "cell_type": "code",
   "execution_count": 58,
   "id": "589fd674",
   "metadata": {},
   "outputs": [],
   "source": [
    "mask = np.char.find(letras, '¿Tienes ya la letra para este tema? Ayúdanos y ¡Envíanosla!') == -1\n",
    "letras = letras[mask]"
   ]
  },
  {
   "cell_type": "code",
   "execution_count": 59,
   "id": "abc7f88e",
   "metadata": {},
   "outputs": [
    {
     "data": {
      "text/plain": [
       "'[Denom]\\nYo que quería, yo que pedía vida,\\nSe partió por la mitad lo que tenía y ahora es frio,\\nTe siento dentro mío, como el dolor, como una tenía,\\nTragos de colonia, principios de histeria, no hay color,\\nYo me elija a no llorar, aunque no sonría,\\nTú no sabes que es sufrir, si por amar no perderías todo,\\nYo no sé lo que es guardar solo recuerdos y aun así,\\nFumo y lo jodo como, todo,\\nLuego no vengas llorar, lo escribo solo,\\nAunque pensando en ella,\\nCon los ojos rojos de llorar y la mano en la polla,\\nLos problemas, los collares, mi epopeya,\\nNo dejes que me destruya, Freya, ya.\\n\\n\\n[Estribillo: Denom] (x2)\\nSi aquí llueve y hiela, como puede ser,\\nQue afuera no sientan el frío,\\nNunca fui como ellos, yo jamás lo quise ser,\\nPerdí mil veces sin saber qué hacer,\\nSigo luchando por llenar ese vació,\\n\\n\\n[Ivo Incuerdo]\\nSi cae tormenta y truena, como puede ser,\\nQue allá afuera no sientan el ruido,\\nNunca fui como ellos, jamás serán como yo,\\nPara encontrarme, cuantas veces me he perdido,\\nSigo luchando por llenar el vació,\\nComo el del estómago, desayunando angustia,\\nLa calle mustia, la gente triste por la lluvia,\\nY yo disfrutando, viendo sus caras de mierda,\\nSiento escalofríos en agosto,\\nDime cómo puedo estar a gusto,\\nEn una sociedad donde todo son apariencias,\\nIncluso yo sonrió escondiendo,\\nMi miseria al mundo,\\nIncuerdo soy yo,\\nIncuerdo no es otro, pero soy más de dos,\\nCada fase a un estado, cada estado es dolor,\\nEl diluvio deja oculto mi sol,\\nEl arcoíris sale, pero ya no hay color,\\nEl gris predomina en mi mundo exterior,\\nVeo la vida sin adornos, chico no creo en Dios,\\nY si creyera lo diría, mientras me miras a los ojos,\\nVeo, solo veo al demonio,\\nComo quieres, que yo quiera, que lo solucione todo,\\nSi me mantengo la mirada y ni siquiera lloro,\\nSi me quiere mucha gente, pero me siento solo.\\n\\n\\n[Estribillo: Denom] (x2)\\nSi aquí llueve y hiela, como puede ser,\\nQue afuera no sientan el frío,\\nNunca fui como ellos, yo jamás lo quise ser,\\nPerdí mil veces sin saber qué hacer,\\nSigo luchando por llenar ese vació.'"
      ]
     },
     "execution_count": 59,
     "metadata": {},
     "output_type": "execute_result"
    }
   ],
   "source": [
    "letras[0]"
   ]
  },
  {
   "cell_type": "code",
   "execution_count": 60,
   "id": "aef1e3e4",
   "metadata": {},
   "outputs": [
    {
     "data": {
      "text/plain": [
       "'Yo que quería, yo que pedía vida,Se partió por la mitad lo que tenía y ahora es frio,Te siento dentro mío, como el dolor, como una tenía,Tragos de colonia, principios de histeria, no hay color,Yo me elija a no llorar, aunque no sonría,Tú no sabes que es sufrir, si por amar no perderías todo,Yo no sé lo que es guardar solo recuerdos y aun así,Fumo y lo jodo como, todo,Luego no vengas llorar, lo escribo solo,Aunque pensando en ella,Con los ojos rojos de llorar y la mano en la polla,Los problemas, los collares, mi epopeya,No dejes que me destruya, Freya, ya. Si aquí llueve y hiela, como puede ser,Que afuera no sientan el frío,Nunca fui como ellos, yo jamás lo quise ser,Perdí mil veces sin saber qué hacer,Sigo luchando por llenar ese vació,Si cae tormenta y truena, como puede ser,Que allá afuera no sientan el ruido,Nunca fui como ellos, jamás serán como yo,Para encontrarme, cuantas veces me he perdido,Sigo luchando por llenar el vació,Como el del estómago, desayunando angustia,La calle mustia, la gente triste por la lluvia,Y yo disfrutando, viendo sus caras de mierda,Siento escalofríos en agosto,Dime cómo puedo estar a gusto,En una sociedad donde todo son apariencias,Incluso yo sonrió escondiendo,Mi miseria al mundo,Incuerdo soy yo,Incuerdo no es otro, pero soy más de dos,Cada fase a un estado, cada estado es dolor,El diluvio deja oculto mi sol,El arcoíris sale, pero ya no hay color,El gris predomina en mi mundo exterior,Veo la vida sin adornos, chico no creo en Dios,Y si creyera lo diría, mientras me miras a los ojos,Veo, solo veo al demonio,Como quieres, que yo quiera, que lo solucione todo,Si me mantengo la mirada y ni siquiera lloro,Si me quiere mucha gente, pero me siento solo. Si aquí llueve y hiela, como puede ser,Que afuera no sientan el frío,Nunca fui como ellos, yo jamás lo quise ser,Perdí mil veces sin saber qué hacer,Sigo luchando por llenar ese vació.'"
      ]
     },
     "execution_count": 60,
     "metadata": {},
     "output_type": "execute_result"
    }
   ],
   "source": [
    "def func1(text):\n",
    "    text = re.sub(r'\\[.*?\\]|\\(.*?\\)', '', text)\n",
    "    return text\n",
    "letras = np.char.replace(letras,\"\\n\",\"\")\n",
    "letras = np.vectorize(func1)(letras)\n",
    "\n",
    "letras[0]"
   ]
  },
  {
   "cell_type": "code",
   "execution_count": 61,
   "id": "8ed25c70",
   "metadata": {},
   "outputs": [
    {
     "name": "stdout",
     "output_type": "stream",
     "text": [
      "Esta es  cadena  ejemplo  varias  entre corchetes.\n"
     ]
    }
   ],
   "source": [
    "import re\n",
    "\n",
    "texto = \"Esta es [una] cadena [de] ejemplo [con] varias [palabras] entre corchetes.\"\n",
    "\n",
    "resultado = re.sub(r'\\[.*?\\]', '', texto)\n",
    "\n",
    "print(resultado)  # Esta es cadena varias entre corchetes.\n"
   ]
  },
  {
   "cell_type": "code",
   "execution_count": 8,
   "id": "3ae2d3fd",
   "metadata": {},
   "outputs": [],
   "source": [
    "letras_limpio = []\n",
    "\n",
    "#Eliminamos líneas vacías o con [Artista] o [Estribillo]\n",
    "for i in range(len(letras)):\n",
    "    cancion_limpia = []\n",
    "    for linea in letras[i].split(\"\\n\"):\n",
    "        if (\"[\" not in linea and \"(\" not in linea and linea != \"\"):\n",
    "            #Pasamos línea a minúsculas y eliminamos puntuación\n",
    "            linea = bytes(linea, 'utf-8').decode('utf-8', 'ignore')\n",
    "            linea = \"\".join(c for c in linea if (c not in string.punctuation and c not in ['','¡','¿'])).lower()\n",
    "            linea = linea.split(\" \")\n",
    "            #Eliminamos stopwords\n",
    "            for palabra in list(linea):\n",
    "                #palabra = palabra.replace(u'\\xa0', u'') #Estp les pasa por usar latin en vez de UTF-8\n",
    "                if palabra in stopwords or palabra in string.punctuation:\n",
    "                    linea.remove(palabra)\n",
    "            cancion_limpia += linea\n",
    "    letras_limpio += [cancion_limpia]"
   ]
  },
  {
   "cell_type": "code",
   "execution_count": 9,
   "id": "79823bc8",
   "metadata": {},
   "outputs": [
    {
     "data": {
      "text/plain": [
       "['quería',\n",
       " 'pedía',\n",
       " 'vida',\n",
       " 'partió',\n",
       " 'mitad',\n",
       " 'ahora',\n",
       " 'frio',\n",
       " 'siento',\n",
       " 'dentro',\n",
       " 'dolor']"
      ]
     },
     "execution_count": 9,
     "metadata": {},
     "output_type": "execute_result"
    }
   ],
   "source": [
    "letras_limpio[0][:10]"
   ]
  }
 ],
 "metadata": {
  "kernelspec": {
   "display_name": "nlp",
   "language": "python",
   "name": "nlp"
  },
  "language_info": {
   "codemirror_mode": {
    "name": "ipython",
    "version": 3
   },
   "file_extension": ".py",
   "mimetype": "text/x-python",
   "name": "python",
   "nbconvert_exporter": "python",
   "pygments_lexer": "ipython3",
   "version": "3.11.2"
  }
 },
 "nbformat": 4,
 "nbformat_minor": 5
}
